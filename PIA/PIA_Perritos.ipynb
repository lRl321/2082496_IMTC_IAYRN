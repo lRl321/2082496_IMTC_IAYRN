{
  "cells": [
    {
      "cell_type": "markdown",
      "source": [
        "Juan Carlos de la Torre Felix 1932878\n",
        "Ian Carlos Salas Rincón 1945113\n",
        "Edna Valeria Degollado García 2035693\n",
        "Jacobo Fabián Nevaréz Hernández 2077409\n",
        "Rafael Díaz García 2082496"
      ],
      "metadata": {
        "id": "yCDAmFeQpcK8"
      }
    },
    {
      "cell_type": "code",
      "execution_count": null,
      "metadata": {
        "id": "XjvdoazIWfKh"
      },
      "outputs": [],
      "source": [
        "import matplotlib.pyplot as plt\n",
        "import cv2\n",
        "from sklearn.model_selection import train_test_split\n",
        "import numpy as np\n",
        "import glob\n",
        "import os\n",
        "from tensorflow.keras import datasets, layers, models\n",
        "import tensorflow as tf"
      ]
    },
    {
      "cell_type": "code",
      "execution_count": null,
      "metadata": {
        "colab": {
          "base_uri": "https://localhost:8080/"
        },
        "id": "vZspze9FWhq3",
        "outputId": "a137c84b-877a-4b75-b416-922d1731404c"
      },
      "outputs": [
        {
          "output_type": "stream",
          "name": "stdout",
          "text": [
            "Requirement already satisfied: kaggle in /usr/local/lib/python3.10/dist-packages (1.5.16)\n",
            "Requirement already satisfied: six>=1.10 in /usr/local/lib/python3.10/dist-packages (from kaggle) (1.16.0)\n",
            "Requirement already satisfied: certifi in /usr/local/lib/python3.10/dist-packages (from kaggle) (2023.7.22)\n",
            "Requirement already satisfied: python-dateutil in /usr/local/lib/python3.10/dist-packages (from kaggle) (2.8.2)\n",
            "Requirement already satisfied: requests in /usr/local/lib/python3.10/dist-packages (from kaggle) (2.31.0)\n",
            "Requirement already satisfied: tqdm in /usr/local/lib/python3.10/dist-packages (from kaggle) (4.66.1)\n",
            "Requirement already satisfied: python-slugify in /usr/local/lib/python3.10/dist-packages (from kaggle) (8.0.1)\n",
            "Requirement already satisfied: urllib3 in /usr/local/lib/python3.10/dist-packages (from kaggle) (2.0.7)\n",
            "Requirement already satisfied: bleach in /usr/local/lib/python3.10/dist-packages (from kaggle) (6.1.0)\n",
            "Requirement already satisfied: webencodings in /usr/local/lib/python3.10/dist-packages (from bleach->kaggle) (0.5.1)\n",
            "Requirement already satisfied: text-unidecode>=1.3 in /usr/local/lib/python3.10/dist-packages (from python-slugify->kaggle) (1.3)\n",
            "Requirement already satisfied: charset-normalizer<4,>=2 in /usr/local/lib/python3.10/dist-packages (from requests->kaggle) (3.3.2)\n",
            "Requirement already satisfied: idna<4,>=2.5 in /usr/local/lib/python3.10/dist-packages (from requests->kaggle) (3.4)\n"
          ]
        }
      ],
      "source": [
        "!pip install kaggle\n",
        "from google.colab import files"
      ]
    },
    {
      "cell_type": "code",
      "execution_count": null,
      "metadata": {
        "colab": {
          "base_uri": "https://localhost:8080/",
          "height": 90
        },
        "id": "kkrD2kc7WlIA",
        "outputId": "bc84f494-4e89-419d-e20b-cf1bb854855b"
      },
      "outputs": [
        {
          "output_type": "display_data",
          "data": {
            "text/plain": [
              "<IPython.core.display.HTML object>"
            ],
            "text/html": [
              "\n",
              "     <input type=\"file\" id=\"files-4bfca4a7-9948-4cf0-969c-e991e5d592ee\" name=\"files[]\" multiple disabled\n",
              "        style=\"border:none\" />\n",
              "     <output id=\"result-4bfca4a7-9948-4cf0-969c-e991e5d592ee\">\n",
              "      Upload widget is only available when the cell has been executed in the\n",
              "      current browser session. Please rerun this cell to enable.\n",
              "      </output>\n",
              "      <script>// Copyright 2017 Google LLC\n",
              "//\n",
              "// Licensed under the Apache License, Version 2.0 (the \"License\");\n",
              "// you may not use this file except in compliance with the License.\n",
              "// You may obtain a copy of the License at\n",
              "//\n",
              "//      http://www.apache.org/licenses/LICENSE-2.0\n",
              "//\n",
              "// Unless required by applicable law or agreed to in writing, software\n",
              "// distributed under the License is distributed on an \"AS IS\" BASIS,\n",
              "// WITHOUT WARRANTIES OR CONDITIONS OF ANY KIND, either express or implied.\n",
              "// See the License for the specific language governing permissions and\n",
              "// limitations under the License.\n",
              "\n",
              "/**\n",
              " * @fileoverview Helpers for google.colab Python module.\n",
              " */\n",
              "(function(scope) {\n",
              "function span(text, styleAttributes = {}) {\n",
              "  const element = document.createElement('span');\n",
              "  element.textContent = text;\n",
              "  for (const key of Object.keys(styleAttributes)) {\n",
              "    element.style[key] = styleAttributes[key];\n",
              "  }\n",
              "  return element;\n",
              "}\n",
              "\n",
              "// Max number of bytes which will be uploaded at a time.\n",
              "const MAX_PAYLOAD_SIZE = 100 * 1024;\n",
              "\n",
              "function _uploadFiles(inputId, outputId) {\n",
              "  const steps = uploadFilesStep(inputId, outputId);\n",
              "  const outputElement = document.getElementById(outputId);\n",
              "  // Cache steps on the outputElement to make it available for the next call\n",
              "  // to uploadFilesContinue from Python.\n",
              "  outputElement.steps = steps;\n",
              "\n",
              "  return _uploadFilesContinue(outputId);\n",
              "}\n",
              "\n",
              "// This is roughly an async generator (not supported in the browser yet),\n",
              "// where there are multiple asynchronous steps and the Python side is going\n",
              "// to poll for completion of each step.\n",
              "// This uses a Promise to block the python side on completion of each step,\n",
              "// then passes the result of the previous step as the input to the next step.\n",
              "function _uploadFilesContinue(outputId) {\n",
              "  const outputElement = document.getElementById(outputId);\n",
              "  const steps = outputElement.steps;\n",
              "\n",
              "  const next = steps.next(outputElement.lastPromiseValue);\n",
              "  return Promise.resolve(next.value.promise).then((value) => {\n",
              "    // Cache the last promise value to make it available to the next\n",
              "    // step of the generator.\n",
              "    outputElement.lastPromiseValue = value;\n",
              "    return next.value.response;\n",
              "  });\n",
              "}\n",
              "\n",
              "/**\n",
              " * Generator function which is called between each async step of the upload\n",
              " * process.\n",
              " * @param {string} inputId Element ID of the input file picker element.\n",
              " * @param {string} outputId Element ID of the output display.\n",
              " * @return {!Iterable<!Object>} Iterable of next steps.\n",
              " */\n",
              "function* uploadFilesStep(inputId, outputId) {\n",
              "  const inputElement = document.getElementById(inputId);\n",
              "  inputElement.disabled = false;\n",
              "\n",
              "  const outputElement = document.getElementById(outputId);\n",
              "  outputElement.innerHTML = '';\n",
              "\n",
              "  const pickedPromise = new Promise((resolve) => {\n",
              "    inputElement.addEventListener('change', (e) => {\n",
              "      resolve(e.target.files);\n",
              "    });\n",
              "  });\n",
              "\n",
              "  const cancel = document.createElement('button');\n",
              "  inputElement.parentElement.appendChild(cancel);\n",
              "  cancel.textContent = 'Cancel upload';\n",
              "  const cancelPromise = new Promise((resolve) => {\n",
              "    cancel.onclick = () => {\n",
              "      resolve(null);\n",
              "    };\n",
              "  });\n",
              "\n",
              "  // Wait for the user to pick the files.\n",
              "  const files = yield {\n",
              "    promise: Promise.race([pickedPromise, cancelPromise]),\n",
              "    response: {\n",
              "      action: 'starting',\n",
              "    }\n",
              "  };\n",
              "\n",
              "  cancel.remove();\n",
              "\n",
              "  // Disable the input element since further picks are not allowed.\n",
              "  inputElement.disabled = true;\n",
              "\n",
              "  if (!files) {\n",
              "    return {\n",
              "      response: {\n",
              "        action: 'complete',\n",
              "      }\n",
              "    };\n",
              "  }\n",
              "\n",
              "  for (const file of files) {\n",
              "    const li = document.createElement('li');\n",
              "    li.append(span(file.name, {fontWeight: 'bold'}));\n",
              "    li.append(span(\n",
              "        `(${file.type || 'n/a'}) - ${file.size} bytes, ` +\n",
              "        `last modified: ${\n",
              "            file.lastModifiedDate ? file.lastModifiedDate.toLocaleDateString() :\n",
              "                                    'n/a'} - `));\n",
              "    const percent = span('0% done');\n",
              "    li.appendChild(percent);\n",
              "\n",
              "    outputElement.appendChild(li);\n",
              "\n",
              "    const fileDataPromise = new Promise((resolve) => {\n",
              "      const reader = new FileReader();\n",
              "      reader.onload = (e) => {\n",
              "        resolve(e.target.result);\n",
              "      };\n",
              "      reader.readAsArrayBuffer(file);\n",
              "    });\n",
              "    // Wait for the data to be ready.\n",
              "    let fileData = yield {\n",
              "      promise: fileDataPromise,\n",
              "      response: {\n",
              "        action: 'continue',\n",
              "      }\n",
              "    };\n",
              "\n",
              "    // Use a chunked sending to avoid message size limits. See b/62115660.\n",
              "    let position = 0;\n",
              "    do {\n",
              "      const length = Math.min(fileData.byteLength - position, MAX_PAYLOAD_SIZE);\n",
              "      const chunk = new Uint8Array(fileData, position, length);\n",
              "      position += length;\n",
              "\n",
              "      const base64 = btoa(String.fromCharCode.apply(null, chunk));\n",
              "      yield {\n",
              "        response: {\n",
              "          action: 'append',\n",
              "          file: file.name,\n",
              "          data: base64,\n",
              "        },\n",
              "      };\n",
              "\n",
              "      let percentDone = fileData.byteLength === 0 ?\n",
              "          100 :\n",
              "          Math.round((position / fileData.byteLength) * 100);\n",
              "      percent.textContent = `${percentDone}% done`;\n",
              "\n",
              "    } while (position < fileData.byteLength);\n",
              "  }\n",
              "\n",
              "  // All done.\n",
              "  yield {\n",
              "    response: {\n",
              "      action: 'complete',\n",
              "    }\n",
              "  };\n",
              "}\n",
              "\n",
              "scope.google = scope.google || {};\n",
              "scope.google.colab = scope.google.colab || {};\n",
              "scope.google.colab._files = {\n",
              "  _uploadFiles,\n",
              "  _uploadFilesContinue,\n",
              "};\n",
              "})(self);\n",
              "</script> "
            ]
          },
          "metadata": {}
        },
        {
          "output_type": "stream",
          "name": "stdout",
          "text": [
            "Saving kaggle.json to kaggle.json\n"
          ]
        },
        {
          "output_type": "execute_result",
          "data": {
            "text/plain": [
              "{'kaggle.json': b'{\"username\":\"ednadegollado\",\"key\":\"bc71353e89e869c728cf9587c7e8549a\"}'}"
            ]
          },
          "metadata": {},
          "execution_count": 3
        }
      ],
      "source": [
        "files.upload()"
      ]
    },
    {
      "cell_type": "code",
      "execution_count": null,
      "metadata": {
        "id": "QJcW-WlZxUVd"
      },
      "outputs": [],
      "source": [
        "!mkdir -p ~/.kaggle/\n",
        "!cp kaggle.json ~/.kaggle/\n",
        "!chmod 600 ~/.kaggle/kaggle.json"
      ]
    },
    {
      "cell_type": "code",
      "execution_count": null,
      "metadata": {
        "colab": {
          "base_uri": "https://localhost:8080/"
        },
        "id": "difDyghWxsr2",
        "outputId": "a7e23d4c-2909-4848-e530-d2988364c4ec"
      },
      "outputs": [
        {
          "output_type": "stream",
          "name": "stdout",
          "text": [
            "Downloading dog-breeds.zip to /content\n",
            " 89% 73.0M/82.3M [00:01<00:00, 50.5MB/s]\n",
            "100% 82.3M/82.3M [00:01<00:00, 52.9MB/s]\n"
          ]
        }
      ],
      "source": [
        "!kaggle datasets download -d mohamedchahed/dog-breeds"
      ]
    },
    {
      "cell_type": "code",
      "execution_count": null,
      "metadata": {
        "id": "5wjoqs76yGjZ"
      },
      "outputs": [],
      "source": [
        "import zipfile\n",
        "\n",
        "zip_file_path = '/content/dog-breeds.zip'\n",
        "\n",
        "extracted_folder_path = '/content/Dataset'\n",
        "\n",
        "with zipfile.ZipFile(zip_file_path, 'r') as zip_ref:\n",
        "    zip_ref.extractall(extracted_folder_path)"
      ]
    },
    {
      "cell_type": "code",
      "execution_count": null,
      "metadata": {
        "id": "gTuc7zskyULp"
      },
      "outputs": [],
      "source": [
        "imagenes = []\n",
        "etiquetas = []"
      ]
    },
    {
      "cell_type": "code",
      "execution_count": null,
      "metadata": {
        "id": "2TgxAva6yYQu"
      },
      "outputs": [],
      "source": [
        "# Ruta de la carpeta principal\n",
        "carpeta_principal = '/content/Dataset/dog-breeds'\n",
        "\n",
        "# Patrón para encontrar todas las subcarpetas dentro de la carpeta principal\n",
        "patron = os.path.join(carpeta_principal, '*')\n",
        "\n",
        "# Utiliza glob para encontrar todas las subcarpetas que coinciden con el patrón\n",
        "subcarpetas = glob.glob(patron)\n",
        "\n",
        "# Itera sobre las subcarpetas encontradas\n",
        "z = 0\n",
        "for subcarpeta in subcarpetas:\n",
        "\n",
        "    if os.path.isdir(subcarpeta):\n",
        "        print('Subcarpeta:', subcarpeta)\n",
        "        # Haz algo con la subcarpeta si es necesario\n",
        "\n",
        "        for x in glob.iglob(f'{subcarpeta}/*.jpg'):\n",
        "          print(x)\n",
        "          test_image = cv2.imread(x)\n",
        "\n",
        "          # Formato de imagen\n",
        "          img_resized = cv2.resize(test_image, (28,28), )\n",
        "\n",
        "          # Guardar imagenes y etiquetas\n",
        "          arreglo_imagen = np.array(img_resized)\n",
        "          imagenes.append(arreglo_imagen)\n",
        "          etiquetas.append(z)\n",
        "    z += 1"
      ]
    },
    {
      "cell_type": "code",
      "execution_count": null,
      "metadata": {
        "id": "ZgYo0vs9yzqG"
      },
      "outputs": [],
      "source": [
        "etiquetas = np.array(etiquetas)"
      ]
    },
    {
      "cell_type": "code",
      "execution_count": null,
      "metadata": {
        "colab": {
          "base_uri": "https://localhost:8080/"
        },
        "id": "rAloZNhlZvp8",
        "outputId": "527c107f-225f-45ee-84cb-6f2c3d61dc49"
      },
      "outputs": [
        {
          "output_type": "execute_result",
          "data": {
            "text/plain": [
              "541"
            ]
          },
          "metadata": {},
          "execution_count": 11
        }
      ],
      "source": [
        "len(etiquetas)"
      ]
    },
    {
      "cell_type": "code",
      "execution_count": null,
      "metadata": {
        "id": "agVVzUP3y10r"
      },
      "outputs": [],
      "source": [
        "images = np.array(imagenes)"
      ]
    },
    {
      "cell_type": "code",
      "execution_count": null,
      "metadata": {
        "colab": {
          "base_uri": "https://localhost:8080/"
        },
        "id": "Iih4mJaZZzti",
        "outputId": "d059ad4d-ae47-4017-d42a-4b18f8090929"
      },
      "outputs": [
        {
          "output_type": "execute_result",
          "data": {
            "text/plain": [
              "541"
            ]
          },
          "metadata": {},
          "execution_count": 13
        }
      ],
      "source": [
        "len(images)"
      ]
    },
    {
      "cell_type": "code",
      "execution_count": null,
      "metadata": {
        "colab": {
          "base_uri": "https://localhost:8080/"
        },
        "id": "EQ4vB6FGy3qL",
        "outputId": "3cfca9b5-f794-4b91-8a85-29c992e7c959"
      },
      "outputs": [
        {
          "output_type": "execute_result",
          "data": {
            "text/plain": [
              "(541, 28, 28, 3)"
            ]
          },
          "metadata": {},
          "execution_count": 14
        }
      ],
      "source": [
        "np.shape(images)"
      ]
    },
    {
      "cell_type": "code",
      "execution_count": null,
      "metadata": {
        "colab": {
          "base_uri": "https://localhost:8080/"
        },
        "id": "esOunCf8y69v",
        "outputId": "6f13e635-efbc-4500-812a-767ca82faa08"
      },
      "outputs": [
        {
          "output_type": "execute_result",
          "data": {
            "text/plain": [
              "541"
            ]
          },
          "metadata": {},
          "execution_count": 15
        }
      ],
      "source": [
        "len(etiquetas)"
      ]
    },
    {
      "cell_type": "code",
      "execution_count": null,
      "metadata": {
        "colab": {
          "base_uri": "https://localhost:8080/"
        },
        "id": "wbSCpzYvy8BO",
        "outputId": "15318eaf-0b8b-4313-8aa9-962ee0027b12"
      },
      "outputs": [
        {
          "output_type": "execute_result",
          "data": {
            "text/plain": [
              "7"
            ]
          },
          "metadata": {},
          "execution_count": 16
        }
      ],
      "source": [
        "etiquetas[-1]"
      ]
    },
    {
      "cell_type": "code",
      "execution_count": null,
      "metadata": {
        "colab": {
          "base_uri": "https://localhost:8080/",
          "height": 447
        },
        "id": "x1rRYniBy92g",
        "outputId": "b13efa1e-f959-4374-c24d-798edd2d3507"
      },
      "outputs": [
        {
          "output_type": "execute_result",
          "data": {
            "text/plain": [
              "<matplotlib.image.AxesImage at 0x7deb39ffd990>"
            ]
          },
          "metadata": {},
          "execution_count": 17
        },
        {
          "output_type": "display_data",
          "data": {
            "text/plain": [
              "<Figure size 640x480 with 1 Axes>"
            ],
            "image/png": "[encoded data removed]"
          },
          "metadata": {}
        }
      ],
      "source": [
        "plt.imshow(imagenes[10])"
      ]
    },
    {
      "cell_type": "code",
      "execution_count": null,
      "metadata": {
        "id": "dFLaXOgqzExi"
      },
      "outputs": [],
      "source": [
        "arreglo_imagen = np.array(img_resized)\n",
        "imagenes.append(arreglo_imagen)"
      ]
    },
    {
      "cell_type": "code",
      "execution_count": null,
      "metadata": {
        "id": "5y_QmzF0zFWr"
      },
      "outputs": [],
      "source": [
        "images_train, images_test, labels_train, labels_test = train_test_split(images, etiquetas, test_size=0.2, random_state=42)"
      ]
    },
    {
      "cell_type": "code",
      "execution_count": null,
      "metadata": {
        "id": "eb0Sp5lPazNp"
      },
      "outputs": [],
      "source": [
        "train_images, test_images = images_train / 255.0, images_test / 255.0"
      ]
    },
    {
      "cell_type": "code",
      "execution_count": null,
      "metadata": {
        "colab": {
          "base_uri": "https://localhost:8080/",
          "height": 807
        },
        "id": "AQKWk2BlbI6i",
        "outputId": "e384724b-b29e-4adb-f83c-93492c35e597"
      },
      "outputs": [
        {
          "output_type": "display_data",
          "data": {
            "text/plain": [
              "<Figure size 1000x1000 with 25 Axes>"
            ],
            "image/png": "[encoded data removed]"
          },
          "metadata": {}
        }
      ],
      "source": [
        "class_names = ['beagle', 'bulldog', 'dalmatian', 'german-shepherd', 'husky',\n",
        "               'labrador-retriever', 'poodle', 'rotweiler']\n",
        "\n",
        "plt.figure(figsize=(10,10))\n",
        "for i in range(25):\n",
        "    plt.subplot(5,5,i+1)\n",
        "    plt.xticks([])\n",
        "    plt.yticks([])\n",
        "    plt.grid(False)\n",
        "    plt.imshow(train_images[i])\n",
        "plt.show()"
      ]
    },
    {
      "cell_type": "code",
      "execution_count": null,
      "metadata": {
        "id": "-Q7m4zGVUjis"
      },
      "outputs": [],
      "source": [
        "model = models.Sequential()\n",
        "model.add(layers.Conv2D(32, (3, 3), activation='relu', input_shape=(28, 28, 3)))\n",
        "model.add(layers.MaxPooling2D((2, 2)))\n",
        "model.add(layers.Conv2D(64, (3, 3), activation='relu'))\n",
        "model.add(layers.MaxPooling2D((2, 2)))\n",
        "model.add(layers.Conv2D(64, (3, 3), activation='relu'))"
      ]
    },
    {
      "cell_type": "code",
      "execution_count": null,
      "metadata": {
        "colab": {
          "base_uri": "https://localhost:8080/"
        },
        "id": "ZlGFAIlDVmt6",
        "outputId": "4d97edfe-6e90-449a-c56c-ceece5c29330"
      },
      "outputs": [
        {
          "output_type": "stream",
          "name": "stdout",
          "text": [
            "Model: \"sequential\"\n",
            "_________________________________________________________________\n",
            " Layer (type)                Output Shape              Param #   \n",
            "=================================================================\n",
            " conv2d (Conv2D)             (None, 26, 26, 32)        896       \n",
            "                                                                 \n",
            " max_pooling2d (MaxPooling2  (None, 13, 13, 32)        0         \n",
            " D)                                                              \n",
            "                                                                 \n",
            " conv2d_1 (Conv2D)           (None, 11, 11, 64)        18496     \n",
            "                                                                 \n",
            " max_pooling2d_1 (MaxPoolin  (None, 5, 5, 64)          0         \n",
            " g2D)                                                            \n",
            "                                                                 \n",
            " conv2d_2 (Conv2D)           (None, 3, 3, 64)          36928     \n",
            "                                                                 \n",
            "=================================================================\n",
            "Total params: 56320 (220.00 KB)\n",
            "Trainable params: 56320 (220.00 KB)\n",
            "Non-trainable params: 0 (0.00 Byte)\n",
            "_________________________________________________________________\n"
          ]
        }
      ],
      "source": [
        "model.summary()"
      ]
    },
    {
      "cell_type": "code",
      "execution_count": null,
      "metadata": {
        "id": "utF0RkRXcyLG"
      },
      "outputs": [],
      "source": [
        "model.add(layers.Flatten())\n",
        "model.add(layers.Dense(64, activation='relu'))\n",
        "model.add(layers.Dense(10, activation='softmax'))"
      ]
    },
    {
      "cell_type": "code",
      "execution_count": null,
      "metadata": {
        "colab": {
          "base_uri": "https://localhost:8080/"
        },
        "id": "m4kqc2avc6HC",
        "outputId": "9b9890e6-8231-4465-d886-18f81d1c83dd"
      },
      "outputs": [
        {
          "output_type": "stream",
          "name": "stdout",
          "text": [
            "Model: \"sequential\"\n",
            "_________________________________________________________________\n",
            " Layer (type)                Output Shape              Param #   \n",
            "=================================================================\n",
            " conv2d (Conv2D)             (None, 26, 26, 32)        896       \n",
            "                                                                 \n",
            " max_pooling2d (MaxPooling2  (None, 13, 13, 32)        0         \n",
            " D)                                                              \n",
            "                                                                 \n",
            " conv2d_1 (Conv2D)           (None, 11, 11, 64)        18496     \n",
            "                                                                 \n",
            " max_pooling2d_1 (MaxPoolin  (None, 5, 5, 64)          0         \n",
            " g2D)                                                            \n",
            "                                                                 \n",
            " conv2d_2 (Conv2D)           (None, 3, 3, 64)          36928     \n",
            "                                                                 \n",
            " flatten (Flatten)           (None, 576)               0         \n",
            "                                                                 \n",
            " dense (Dense)               (None, 64)                36928     \n",
            "                                                                 \n",
            " dense_1 (Dense)             (None, 10)                650       \n",
            "                                                                 \n",
            "=================================================================\n",
            "Total params: 93898 (366.79 KB)\n",
            "Trainable params: 93898 (366.79 KB)\n",
            "Non-trainable params: 0 (0.00 Byte)\n",
            "_________________________________________________________________\n"
          ]
        }
      ],
      "source": [
        "model.summary()"
      ]
    },
    {
      "cell_type": "code",
      "execution_count": null,
      "metadata": {
        "colab": {
          "base_uri": "https://localhost:8080/"
        },
        "id": "IrhZ5AJ2V1kQ",
        "outputId": "44da57ea-6334-4793-da50-1c3e54f617f0"
      },
      "outputs": [
        {
          "output_type": "stream",
          "name": "stdout",
          "text": [
            "Epoch 1/10\n",
            "14/14 [==============================] - 2s 49ms/step - loss: 1.1261 - accuracy: 0.6134 - val_loss: 1.4310 - val_accuracy: 0.4312\n",
            "Epoch 2/10\n",
            "14/14 [==============================] - 1s 39ms/step - loss: 1.0223 - accuracy: 0.6944 - val_loss: 1.3310 - val_accuracy: 0.5413\n",
            "Epoch 3/10\n",
            "14/14 [==============================] - 1s 38ms/step - loss: 0.9092 - accuracy: 0.7060 - val_loss: 1.2141 - val_accuracy: 0.5688\n",
            "Epoch 4/10\n",
            "14/14 [==============================] - 1s 37ms/step - loss: 0.8152 - accuracy: 0.7546 - val_loss: 1.1623 - val_accuracy: 0.6147\n",
            "Epoch 5/10\n",
            "14/14 [==============================] - 0s 35ms/step - loss: 0.7006 - accuracy: 0.7847 - val_loss: 1.2443 - val_accuracy: 0.5596\n",
            "Epoch 6/10\n",
            "14/14 [==============================] - 1s 38ms/step - loss: 0.6707 - accuracy: 0.8079 - val_loss: 1.1437 - val_accuracy: 0.5596\n",
            "Epoch 7/10\n",
            "14/14 [==============================] - 0s 35ms/step - loss: 0.5768 - accuracy: 0.8310 - val_loss: 1.0989 - val_accuracy: 0.6239\n",
            "Epoch 8/10\n",
            "14/14 [==============================] - 1s 38ms/step - loss: 0.5680 - accuracy: 0.8310 - val_loss: 1.0519 - val_accuracy: 0.6239\n",
            "Epoch 9/10\n",
            "14/14 [==============================] - 1s 37ms/step - loss: 0.5095 - accuracy: 0.8565 - val_loss: 1.0133 - val_accuracy: 0.6697\n",
            "Epoch 10/10\n",
            "14/14 [==============================] - 1s 39ms/step - loss: 0.4212 - accuracy: 0.8912 - val_loss: 1.0026 - val_accuracy: 0.7064\n"
          ]
        }
      ],
      "source": [
        "model.compile(optimizer='adam',\n",
        "              loss=tf.keras.losses.SparseCategoricalCrossentropy(from_logits=True),\n",
        "              metrics=['accuracy'])\n",
        "\n",
        "history = model.fit(train_images, labels_train, epochs=10,\n",
        "                    validation_data=(test_images, labels_test))"
      ]
    },
    {
      "cell_type": "code",
      "execution_count": null,
      "metadata": {
        "colab": {
          "base_uri": "https://localhost:8080/",
          "height": 472
        },
        "id": "sMJnwHGOWdhp",
        "outputId": "ba51a69d-b76b-4089-eaa6-d0fe30a6ec65"
      },
      "outputs": [
        {
          "output_type": "stream",
          "name": "stdout",
          "text": [
            "4/4 - 0s - loss: 1.0026 - accuracy: 0.7064 - 101ms/epoch - 25ms/step\n"
          ]
        },
        {
          "output_type": "display_data",
          "data": {
            "text/plain": [
              "<Figure size 640x480 with 1 Axes>"
            ],
            "image/png": "[encoded data removed]"
          },
          "metadata": {}
        }
      ],
      "source": [
        "plt.plot(history.history['accuracy'], label='accuracy')\n",
        "plt.plot(history.history['val_accuracy'], label = 'val_accuracy')\n",
        "plt.xlabel('Epoch')\n",
        "plt.ylabel('Accuracy')\n",
        "plt.ylim([0.4, 1])\n",
        "plt.xlim([-1, 11])\n",
        "plt.legend(loc='lower right')\n",
        "\n",
        "test_loss, test_acc = model.evaluate(test_images,  labels_test, verbose=2)"
      ]
    },
    {
      "cell_type": "code",
      "execution_count": null,
      "metadata": {
        "colab": {
          "base_uri": "https://localhost:8080/"
        },
        "id": "9Jmsmiu-Wm3s",
        "outputId": "37167a95-76df-4dd1-dc06-a268a479202a"
      },
      "outputs": [
        {
          "output_type": "stream",
          "name": "stdout",
          "text": [
            "0.7064220309257507\n"
          ]
        }
      ],
      "source": [
        "print(test_acc)"
      ]
    },
    {
      "cell_type": "code",
      "source": [
        "predictions = model.predict(test_images)"
      ],
      "metadata": {
        "colab": {
          "base_uri": "https://localhost:8080/"
        },
        "id": "TjQFpC6JWQtg",
        "outputId": "73640e68-9632-4d31-ffb5-ce3efcadbd5e"
      },
      "execution_count": null,
      "outputs": [
        {
          "output_type": "stream",
          "name": "stdout",
          "text": [
            "4/4 [==============================] - 0s 10ms/step\n"
          ]
        }
      ]
    },
    {
      "cell_type": "code",
      "source": [
        "predictions[5]"
      ],
      "metadata": {
        "colab": {
          "base_uri": "https://localhost:8080/"
        },
        "id": "ifpFAA9J_Qi9",
        "outputId": "601be637-88bc-4a4d-a074-1ed38f11d682"
      },
      "execution_count": null,
      "outputs": [
        {
          "output_type": "execute_result",
          "data": {
            "text/plain": [
              "array([1.1739626e-02, 8.7500125e-01, 2.7457078e-04, 1.1645489e-02,\n",
              "       3.2682503e-03, 3.1580918e-02, 3.0140365e-03, 6.3475832e-02,\n",
              "       2.2776643e-11, 3.5490872e-12], dtype=float32)"
            ]
          },
          "metadata": {},
          "execution_count": 31
        }
      ]
    },
    {
      "cell_type": "code",
      "source": [
        "np.argmax(predictions[1])"
      ],
      "metadata": {
        "colab": {
          "base_uri": "https://localhost:8080/"
        },
        "id": "2aUnYCLwDKSA",
        "outputId": "6bb0fba3-7cf1-425b-ae7b-ee20ba5f294b"
      },
      "execution_count": null,
      "outputs": [
        {
          "output_type": "execute_result",
          "data": {
            "text/plain": [
              "0"
            ]
          },
          "metadata": {},
          "execution_count": 32
        }
      ]
    },
    {
      "cell_type": "code",
      "source": [
        "len(labels_test)"
      ],
      "metadata": {
        "colab": {
          "base_uri": "https://localhost:8080/"
        },
        "id": "JjKuwPtu_cUP",
        "outputId": "9e9d14a7-fb1d-4dda-d8a0-fcf964c42bfc"
      },
      "execution_count": null,
      "outputs": [
        {
          "output_type": "execute_result",
          "data": {
            "text/plain": [
              "109"
            ]
          },
          "metadata": {},
          "execution_count": 33
        }
      ]
    },
    {
      "cell_type": "code",
      "source": [
        "predictions[1]"
      ],
      "metadata": {
        "colab": {
          "base_uri": "https://localhost:8080/"
        },
        "id": "SPM7Bvc3lwmO",
        "outputId": "690a3915-9909-4136-9e53-9e1b38ded3a9"
      },
      "execution_count": null,
      "outputs": [
        {
          "output_type": "execute_result",
          "data": {
            "text/plain": [
              "array([9.6846086e-01, 1.0220336e-02, 8.8509927e-03, 1.0679481e-03,\n",
              "       1.0266690e-02, 7.4981370e-05, 1.0517382e-03, 6.5595264e-06,\n",
              "       4.1617109e-15, 1.7990642e-12], dtype=float32)"
            ]
          },
          "metadata": {},
          "execution_count": 34
        }
      ]
    },
    {
      "cell_type": "code",
      "source": [
        "x = str(np.argmax(predictions[1]))\n",
        "y = str(labels_test[1])\n",
        "\n",
        "print(\"La red dice que la imagen es clase \" + x + \" y la clase verdadera es: \" + y)"
      ],
      "metadata": {
        "colab": {
          "base_uri": "https://localhost:8080/"
        },
        "id": "mAwcz9x0Wc3-",
        "outputId": "cd96d362-2a79-4271-aafd-144af087ee42"
      },
      "execution_count": null,
      "outputs": [
        {
          "output_type": "stream",
          "name": "stdout",
          "text": [
            "La red dice que la imagen es clase 0 y la clase verdadera es: 0\n"
          ]
        }
      ]
    },
    {
      "cell_type": "code",
      "source": [
        "x = str(np.argmax(predictions[50]))\n",
        "y = str(labels_test[50])\n",
        "\n",
        "print(\"La red dice que la imagen es clase \" + x + \" y la clase verdadera es: \" + y)"
      ],
      "metadata": {
        "id": "WUr1_TMkXZ47",
        "colab": {
          "base_uri": "https://localhost:8080/"
        },
        "outputId": "1a63b7f7-7d61-4461-a81c-f0cecf5d6020"
      },
      "execution_count": null,
      "outputs": [
        {
          "output_type": "stream",
          "name": "stdout",
          "text": [
            "La red dice que la imagen es clase 3 y la clase verdadera es: 3\n"
          ]
        }
      ]
    },
    {
      "cell_type": "code",
      "source": [
        "x = str(np.argmax(predictions[40]))\n",
        "y = str(labels_test[40])\n",
        "\n",
        "print(\"La red dice que la imagen es clase \" + x + \" y la clase verdadera es: \" + y)"
      ],
      "metadata": {
        "id": "fCQyDumRXc3o",
        "colab": {
          "base_uri": "https://localhost:8080/"
        },
        "outputId": "37470a0f-ee05-4700-d9ca-d26171bc2f6d"
      },
      "execution_count": null,
      "outputs": [
        {
          "output_type": "stream",
          "name": "stdout",
          "text": [
            "La red dice que la imagen es clase 4 y la clase verdadera es: 4\n"
          ]
        }
      ]
    },
    {
      "cell_type": "code",
      "source": [
        "x = str(np.argmax(predictions[96]))\n",
        "y = str(labels_test[96])\n",
        "\n",
        "print(\"La red dice que la imagen es clase \" + x + \" y la clase verdadera es: \" + y)"
      ],
      "metadata": {
        "colab": {
          "base_uri": "https://localhost:8080/"
        },
        "id": "rxbDgJ8psbwN",
        "outputId": "d87b0cb5-ba44-41f4-c658-6581e9d9436a"
      },
      "execution_count": null,
      "outputs": [
        {
          "output_type": "stream",
          "name": "stdout",
          "text": [
            "La red dice que la imagen es clase 6 y la clase verdadera es: 6\n"
          ]
        }
      ]
    },
    {
      "cell_type": "code",
      "source": [
        "x = str(np.argmax(predictions[61]))\n",
        "y = str(labels_test[61])\n",
        "\n",
        "print(\"La red dice que la imagen es clase \" + x + \" y la clase verdadera es: \" + y)"
      ],
      "metadata": {
        "colab": {
          "base_uri": "https://localhost:8080/"
        },
        "id": "kEK6Fm2_se7c",
        "outputId": "f8944e5f-3454-45cb-ffa5-6bf570d5cddd"
      },
      "execution_count": null,
      "outputs": [
        {
          "output_type": "stream",
          "name": "stdout",
          "text": [
            "La red dice que la imagen es clase 1 y la clase verdadera es: 4\n"
          ]
        }
      ]
    },
    {
      "cell_type": "code",
      "source": [
        "x = str(np.argmax(predictions[28]))\n",
        "y = str(labels_test[28])\n",
        "\n",
        "print(\"La red dice que la imagen es clase \" + x + \" y la clase verdadera es: \" + y)"
      ],
      "metadata": {
        "colab": {
          "base_uri": "https://localhost:8080/"
        },
        "id": "NHqDGzSMsixR",
        "outputId": "7876c947-3b79-4c55-c5f0-d9a440681214"
      },
      "execution_count": null,
      "outputs": [
        {
          "output_type": "stream",
          "name": "stdout",
          "text": [
            "La red dice que la imagen es clase 3 y la clase verdadera es: 0\n"
          ]
        }
      ]
    },
    {
      "cell_type": "code",
      "source": [
        "x = str(np.argmax(predictions[33]))\n",
        "y = str(labels_test[33])\n",
        "\n",
        "print(\"La red dice que la imagen es clase \" + x + \" y la clase verdadera es: \" + y)"
      ],
      "metadata": {
        "colab": {
          "base_uri": "https://localhost:8080/"
        },
        "id": "7hBnBuu8smVy",
        "outputId": "b30a7a99-938e-405b-872d-dd4bc5c80970"
      },
      "execution_count": null,
      "outputs": [
        {
          "output_type": "stream",
          "name": "stdout",
          "text": [
            "La red dice que la imagen es clase 4 y la clase verdadera es: 5\n"
          ]
        }
      ]
    },
    {
      "cell_type": "code",
      "source": [
        "x = str(np.argmax(predictions[71]))\n",
        "y = str(labels_test[71])\n",
        "\n",
        "print(\"La red dice que la imagen es clase \" + x + \" y la clase verdadera es: \" + y)"
      ],
      "metadata": {
        "colab": {
          "base_uri": "https://localhost:8080/"
        },
        "id": "Ixu9rFCtsoxL",
        "outputId": "5aba4560-c8d9-4d22-d07e-ef439f100f1e"
      },
      "execution_count": null,
      "outputs": [
        {
          "output_type": "stream",
          "name": "stdout",
          "text": [
            "La red dice que la imagen es clase 3 y la clase verdadera es: 1\n"
          ]
        }
      ]
    },
    {
      "cell_type": "code",
      "source": [
        "x = str(np.argmax(predictions[82]))\n",
        "y = str(labels_test[82])\n",
        "\n",
        "print(\"La red dice que la imagen es clase \" + x + \" y la clase verdadera es: \" + y)"
      ],
      "metadata": {
        "colab": {
          "base_uri": "https://localhost:8080/"
        },
        "id": "QJVuq3MlsrUL",
        "outputId": "416f347b-6428-4eb5-ebb1-73a7aacc6933"
      },
      "execution_count": null,
      "outputs": [
        {
          "output_type": "stream",
          "name": "stdout",
          "text": [
            "La red dice que la imagen es clase 1 y la clase verdadera es: 1\n"
          ]
        }
      ]
    },
    {
      "cell_type": "code",
      "source": [
        "x = str(np.argmax(predictions[14]))\n",
        "y = str(labels_test[14])\n",
        "\n",
        "print(\"La red dice que la imagen es clase \" + x + \" y la clase verdadera es: \" + y)"
      ],
      "metadata": {
        "colab": {
          "base_uri": "https://localhost:8080/"
        },
        "id": "QpsgpKCksttg",
        "outputId": "cc44bf6a-f5bf-48b5-f76f-d840036ca9b9"
      },
      "execution_count": null,
      "outputs": [
        {
          "output_type": "stream",
          "name": "stdout",
          "text": [
            "La red dice que la imagen es clase 4 y la clase verdadera es: 4\n"
          ]
        }
      ]
    }
  ],
  "metadata": {
    "colab": {
      "provenance": []
    },
    "kernelspec": {
      "display_name": "Python 3",
      "name": "python3"
    },
    "language_info": {
      "name": "python"
    }
  },
  "nbformat": 4,
  "nbformat_minor": 0
}