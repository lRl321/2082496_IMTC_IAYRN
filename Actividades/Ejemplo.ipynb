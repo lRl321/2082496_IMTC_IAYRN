{
  "nbformat": 4,
  "nbformat_minor": 0,
  "metadata": {
    "colab": {
      "provenance": []
    },
    "kernelspec": {
      "name": "python3",
      "display_name": "Python 3"
    },
    "language_info": {
      "name": "python"
    }
  },
  "cells": [
    {
      "cell_type": "markdown",
      "source": [
        "# \"Introduccion a COLAB\"\n",
        "Esta es mi primer Notebook"
      ],
      "metadata": {
        "id": "c59fOoX3AcYt"
      }
    },
    {
      "cell_type": "code",
      "source": [
        "print('Hola Mundo, tengo hambre')"
      ],
      "metadata": {
        "colab": {
          "base_uri": "https://localhost:8080/"
        },
        "id": "YRWnja0aAdTj",
        "outputId": "95e81a28-3e80-46ef-933f-9d907127f0b7"
      },
      "execution_count": 2,
      "outputs": [
        {
          "output_type": "stream",
          "name": "stdout",
          "text": [
            "Hola Mundo, tengo hambre\n"
          ]
        }
      ]
    }
  ]
}