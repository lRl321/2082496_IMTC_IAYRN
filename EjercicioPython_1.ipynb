{
  "nbformat": 4,
  "nbformat_minor": 0,
  "metadata": {
    "colab": {
      "provenance": [],
      "authorship_tag": "ABX9TyMiQFk4YIk+9guFko6pXKyi",
      "include_colab_link": true
    },
    "kernelspec": {
      "name": "python3",
      "display_name": "Python 3"
    },
    "language_info": {
      "name": "python"
    }
  },
  "cells": [
    {
      "cell_type": "markdown",
      "metadata": {
        "id": "view-in-github",
        "colab_type": "text"
      },
      "source": [
        "<a href=\"https://colab.research.google.com/github/lRl321/2082496_IMTC_IAYRN/blob/main/EjercicioPython_1.ipynb\" target=\"_parent\"><img src=\"https://colab.research.google.com/assets/colab-badge.svg\" alt=\"Open In Colab\"/></a>"
      ]
    },
    {
      "cell_type": "markdown",
      "source": [
        "# **Rafael Díaz García 2082496 IMTC**\n",
        "Actividad 2"
      ],
      "metadata": {
        "id": "59Nup6FbyC3P"
      }
    },
    {
      "cell_type": "markdown",
      "source": [
        "Ejercicio #1"
      ],
      "metadata": {
        "id": "u4eqRL6AyTC-"
      }
    },
    {
      "cell_type": "code",
      "execution_count": 17,
      "metadata": {
        "colab": {
          "base_uri": "https://localhost:8080/"
        },
        "id": "9h-kN_lNrImG",
        "outputId": "710a7dc0-0af3-4b1e-8ef8-f4312132f3e8"
      },
      "outputs": [
        {
          "output_type": "stream",
          "name": "stdout",
          "text": [
            "Ingresa un número: 10\n",
            "10 es par.\n"
          ]
        }
      ],
      "source": [
        "num = int(input(\"Ingresa un número: \"))\n",
        "\n",
        "if(num%2 ==0):\n",
        "    {\n",
        "        print(f\"{num} es par.\")\n",
        "    }\n",
        "else:\n",
        "    {\n",
        "        print(f\"{num} es inpar.\")\n",
        "    }"
      ]
    },
    {
      "cell_type": "markdown",
      "source": [
        "Ejercicio #2"
      ],
      "metadata": {
        "id": "DklYF8SEySSc"
      }
    },
    {
      "cell_type": "code",
      "source": [
        "entrada = input(\"Ingrese una lista de números separados por espacios: \")\n",
        "\n",
        "nums = entrada.split()\n",
        "\n",
        "nums = [int(num) for num in nums]\n",
        "\n",
        "nums.reverse()\n",
        "\n",
        "print(\"Lista en orden inverso:\", nums)"
      ],
      "metadata": {
        "colab": {
          "base_uri": "https://localhost:8080/"
        },
        "id": "7Wyp1CafyYda",
        "outputId": "de41d4c0-a61f-4a18-eb30-a07b79d6f83d"
      },
      "execution_count": 18,
      "outputs": [
        {
          "output_type": "stream",
          "name": "stdout",
          "text": [
            "Ingrese una lista de números separados por espacios: 6 7 8 3 5 6\n",
            "Lista en orden inverso: [6, 5, 3, 8, 7, 6]\n"
          ]
        }
      ]
    },
    {
      "cell_type": "markdown",
      "source": [
        "\n",
        "Ejercicio #3\n"
      ],
      "metadata": {
        "id": "1OUb2KlZyX1q"
      }
    },
    {
      "cell_type": "code",
      "source": [
        "  import random\n",
        "\n",
        "numerogenerado = random.randint(1, 100)\n",
        "\n",
        "intentos = 0\n",
        "\n",
        "while True:\n",
        "\n",
        "    intento = int(input(\"Adivina el número entre 1 y 100: \"))\n",
        "    intentos += 1\n",
        "\n",
        "    if intento == numerogenerado:\n",
        "        print(f\"¡Felicitaciones! Adivinaste el número {numerogenerado} en {intentos} intentos.\")\n",
        "        break\n",
        "    elif intento < numerogenerado:\n",
        "        print(\"El número es mayor. Intenta nuevamente.\")\n",
        "    else:\n",
        "        print(\"El número es menor. Intenta nuevamente.\")\n"
      ],
      "metadata": {
        "colab": {
          "base_uri": "https://localhost:8080/"
        },
        "id": "DT6PHGJoyZaD",
        "outputId": "20e9e9c8-b8a6-4b61-d3d8-823f66c9179b"
      },
      "execution_count": 19,
      "outputs": [
        {
          "output_type": "stream",
          "name": "stdout",
          "text": [
            "Adivina el número entre 1 y 100: 9\n",
            "El número es menor. Intenta nuevamente.\n",
            "Adivina el número entre 1 y 100: 6\n",
            "El número es mayor. Intenta nuevamente.\n",
            "Adivina el número entre 1 y 100: 8\n",
            "¡Felicitaciones! Adivinaste el número 8 en 3 intentos.\n"
          ]
        }
      ]
    },
    {
      "cell_type": "markdown",
      "source": [
        "Ejercicio #4"
      ],
      "metadata": {
        "id": "hseKAurGyZrV"
      }
    },
    {
      "cell_type": "code",
      "source": [
        "def es_primo(numero):\n",
        "    if num <= 1:\n",
        "        return False\n",
        "    if num <= 3:\n",
        "        return True\n",
        "    if num % 2 == 0 or num % 3 == 0:\n",
        "        return False\n",
        "    i = 5\n",
        "    while i * i <= num:\n",
        "        if num % i == 0 or num % (i + 2) == 0:\n",
        "            return False\n",
        "        i += 6\n",
        "    return True\n",
        "\n",
        "inicio = int(input(\"Ingrese el número inicial del rango: \"))\n",
        "fin = int(input(\"Ingrese el número final del rango: \"))\n",
        "\n",
        "print(f\"Números primos en el rango de {inicio} a {fin}:\")\n",
        "for num in range(inicio, fin + 1):\n",
        "    if es_primo(num):\n",
        "        print(num)\n"
      ],
      "metadata": {
        "colab": {
          "base_uri": "https://localhost:8080/"
        },
        "id": "M6Wtqr_tyknw",
        "outputId": "8d514327-320a-457e-c7b7-aa0c70ddb5f0"
      },
      "execution_count": 21,
      "outputs": [
        {
          "output_type": "stream",
          "name": "stdout",
          "text": [
            "Ingrese el número inicial del rango: 3\n",
            "Ingrese el número final del rango: 87\n",
            "Números primos en el rango de 3 a 87:\n",
            "3\n",
            "5\n",
            "7\n",
            "11\n",
            "13\n",
            "17\n",
            "19\n",
            "23\n",
            "29\n",
            "31\n",
            "37\n",
            "41\n",
            "43\n",
            "47\n",
            "53\n",
            "59\n",
            "61\n",
            "67\n",
            "71\n",
            "73\n",
            "79\n",
            "83\n"
          ]
        }
      ]
    }
  ]
}